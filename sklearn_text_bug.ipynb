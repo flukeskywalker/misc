{
 "metadata": {
  "name": ""
 },
 "nbformat": 3,
 "nbformat_minor": 0,
 "worksheets": [
  {
   "cells": [
    {
     "cell_type": "code",
     "collapsed": false,
     "input": [
      "from sklearn.feature_extraction.text import CountVectorizer\n",
      "import numpy as np\n",
      "\n",
      "text = \"Machine learning is about learning some properties of a data set and applying them to new data. \" \\\n",
      "       \"This is why a common practice in machine learning to evaluate an algorithm is to split the data \" \\\n",
      "       \"at hand into two sets, one that we call the training set on which we learn data properties and \" \\\n",
      "       \"one that we call the testing set on which we test these properties.\"\n",
      "\n",
      "def get_highest_freq_feature(text, using_top=None):\n",
      "    cv = CountVectorizer(min_df=1, decode_error=\"ignore\",\n",
      "                         stop_words=\"english\", max_features=using_top)\n",
      "    counts = cv.fit_transform([text]).toarray().ravel()\n",
      "    words = np.array(cv.get_feature_names())\n",
      "    return words[np.argmax(counts)]"
     ],
     "language": "python",
     "metadata": {},
     "outputs": [],
     "prompt_number": 7
    },
    {
     "cell_type": "code",
     "collapsed": false,
     "input": [
      "print(get_highest_freq_feature(text, None))"
     ],
     "language": "python",
     "metadata": {},
     "outputs": [
      {
       "output_type": "stream",
       "stream": "stdout",
       "text": [
        "data\n"
       ]
      }
     ],
     "prompt_number": 8
    },
    {
     "cell_type": "code",
     "collapsed": false,
     "input": [
      "print(get_highest_freq_feature(text, 10))"
     ],
     "language": "python",
     "metadata": {},
     "outputs": [
      {
       "output_type": "stream",
       "stream": "stdout",
       "text": [
        "learning\n"
       ]
      }
     ],
     "prompt_number": 9
    },
    {
     "cell_type": "code",
     "collapsed": false,
     "input": [
      "print(get_highest_freq_feature(text, 5))"
     ],
     "language": "python",
     "metadata": {},
     "outputs": [
      {
       "output_type": "stream",
       "stream": "stdout",
       "text": [
        "set\n"
       ]
      }
     ],
     "prompt_number": 11
    },
    {
     "cell_type": "code",
     "collapsed": false,
     "input": [
      "print(get_highest_freq_feature(text, 1))"
     ],
     "language": "python",
     "metadata": {},
     "outputs": [
      {
       "output_type": "stream",
       "stream": "stdout",
       "text": [
        "algorithm\n"
       ]
      }
     ],
     "prompt_number": 12
    }
   ],
   "metadata": {}
  }
 ]
}